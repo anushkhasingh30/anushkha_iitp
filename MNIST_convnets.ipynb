{
 "cells": [
  {
   "cell_type": "code",
   "execution_count": 204,
   "metadata": {},
   "outputs": [],
   "source": [
    "import torch\n",
    "import torch.nn as nn\n",
    "import torch.nn.functional as F\n",
    "from torch.utils.data import DataLoader\n",
    "from torchvision import datasets,transforms\n",
    "from torchvision.utils import make_grid\n",
    "import matplotlib.pyplot as plt\n",
    "import numpy as np\n",
    "import pandas as pd\n",
    "from sklearn.metrics import confusion_matrix\n",
    "%matplotlib inline"
   ]
  },
  {
   "cell_type": "code",
   "execution_count": 205,
   "metadata": {},
   "outputs": [],
   "source": [
    "transform=transforms.ToTensor()"
   ]
  },
  {
   "cell_type": "code",
   "execution_count": 206,
   "metadata": {},
   "outputs": [
    {
     "data": {
      "text/plain": [
       "'C:\\\\Users\\\\SEEMA YADAV\\\\Desktop\\\\AI-MachineLearning\\\\03-CNN-Convolutional-Neural-Networks'"
      ]
     },
     "execution_count": 206,
     "metadata": {},
     "output_type": "execute_result"
    }
   ],
   "source": [
    "pwd"
   ]
  },
  {
   "cell_type": "code",
   "execution_count": 207,
   "metadata": {},
   "outputs": [],
   "source": [
    "train_data=datasets.MNIST(root='C:\\\\Users\\\\SEEMA YADAV\\\\Desktop',train=True,download=True,\n",
    "                         transform=transform)"
   ]
  },
  {
   "cell_type": "code",
   "execution_count": 208,
   "metadata": {},
   "outputs": [],
   "source": [
    "test_data=datasets.MNIST(root='C:\\\\Users\\\\SEEMA YADAV\\\\Desktop',train=False,download=True,\n",
    "                         transform=transform)"
   ]
  },
  {
   "cell_type": "code",
   "execution_count": 209,
   "metadata": {},
   "outputs": [
    {
     "data": {
      "text/plain": [
       "Dataset MNIST\n",
       "    Number of datapoints: 60000\n",
       "    Root location: C:\\Users\\SEEMA YADAV\\Desktop\n",
       "    Split: Train\n",
       "    StandardTransform\n",
       "Transform: ToTensor()"
      ]
     },
     "execution_count": 209,
     "metadata": {},
     "output_type": "execute_result"
    }
   ],
   "source": [
    "train_data"
   ]
  },
  {
   "cell_type": "code",
   "execution_count": 210,
   "metadata": {},
   "outputs": [
    {
     "data": {
      "text/plain": [
       "Dataset MNIST\n",
       "    Number of datapoints: 10000\n",
       "    Root location: C:\\Users\\SEEMA YADAV\\Desktop\n",
       "    Split: Test\n",
       "    StandardTransform\n",
       "Transform: ToTensor()"
      ]
     },
     "execution_count": 210,
     "metadata": {},
     "output_type": "execute_result"
    }
   ],
   "source": [
    "test_data"
   ]
  },
  {
   "cell_type": "code",
   "execution_count": 211,
   "metadata": {},
   "outputs": [],
   "source": [
    "train_loader=DataLoader(train_data,batch_size=10,shuffle=True)\n",
    "test_loader=DataLoader(test_data,batch_size=10,shuffle=False)"
   ]
  },
  {
   "cell_type": "code",
   "execution_count": 212,
   "metadata": {},
   "outputs": [],
   "source": [
    "for b,(train,test) in enumerate(train_data):\n",
    "    break"
   ]
  },
  {
   "cell_type": "code",
   "execution_count": 213,
   "metadata": {},
   "outputs": [
    {
     "data": {
      "text/plain": [
       "torch.Size([1, 28, 28])"
      ]
     },
     "execution_count": 213,
     "metadata": {},
     "output_type": "execute_result"
    }
   ],
   "source": [
    "train.size()"
   ]
  },
  {
   "cell_type": "code",
   "execution_count": 214,
   "metadata": {},
   "outputs": [],
   "source": [
    "conv1=nn.Conv2d(1,6,3,1)\n",
    "conv2=nn.Conv2d(6,16,3,1)"
   ]
  },
  {
   "cell_type": "code",
   "execution_count": 215,
   "metadata": {},
   "outputs": [],
   "source": [
    "x=train.view(1,1,28,28)"
   ]
  },
  {
   "cell_type": "code",
   "execution_count": 216,
   "metadata": {},
   "outputs": [],
   "source": [
    "x=F.relu(conv1(x))"
   ]
  },
  {
   "cell_type": "code",
   "execution_count": 217,
   "metadata": {},
   "outputs": [
    {
     "data": {
      "text/plain": [
       "torch.Size([1, 6, 26, 26])"
      ]
     },
     "execution_count": 217,
     "metadata": {},
     "output_type": "execute_result"
    }
   ],
   "source": [
    "x.size()"
   ]
  },
  {
   "cell_type": "code",
   "execution_count": 218,
   "metadata": {},
   "outputs": [],
   "source": [
    "x=F.max_pool2d(x,2,2)"
   ]
  },
  {
   "cell_type": "code",
   "execution_count": 219,
   "metadata": {},
   "outputs": [
    {
     "data": {
      "text/plain": [
       "torch.Size([1, 6, 13, 13])"
      ]
     },
     "execution_count": 219,
     "metadata": {},
     "output_type": "execute_result"
    }
   ],
   "source": [
    "x.size()"
   ]
  },
  {
   "cell_type": "code",
   "execution_count": 220,
   "metadata": {},
   "outputs": [],
   "source": [
    "x=F.relu(conv2(x))"
   ]
  },
  {
   "cell_type": "code",
   "execution_count": 221,
   "metadata": {},
   "outputs": [
    {
     "data": {
      "text/plain": [
       "torch.Size([1, 16, 11, 11])"
      ]
     },
     "execution_count": 221,
     "metadata": {},
     "output_type": "execute_result"
    }
   ],
   "source": [
    "x.size()"
   ]
  },
  {
   "cell_type": "code",
   "execution_count": 222,
   "metadata": {},
   "outputs": [],
   "source": [
    "x=F.max_pool2d(x,2,2)"
   ]
  },
  {
   "cell_type": "code",
   "execution_count": 223,
   "metadata": {},
   "outputs": [
    {
     "data": {
      "text/plain": [
       "torch.Size([1, 16, 5, 5])"
      ]
     },
     "execution_count": 223,
     "metadata": {},
     "output_type": "execute_result"
    }
   ],
   "source": [
    "x.size()"
   ]
  },
  {
   "cell_type": "code",
   "execution_count": 224,
   "metadata": {},
   "outputs": [],
   "source": [
    "x=x.view(1,-1)"
   ]
  },
  {
   "cell_type": "code",
   "execution_count": 225,
   "metadata": {},
   "outputs": [
    {
     "data": {
      "text/plain": [
       "torch.Size([1, 400])"
      ]
     },
     "execution_count": 225,
     "metadata": {},
     "output_type": "execute_result"
    }
   ],
   "source": [
    "x.size()"
   ]
  },
  {
   "cell_type": "code",
   "execution_count": 226,
   "metadata": {},
   "outputs": [],
   "source": [
    "class conv_architect(nn.Module):\n",
    "    def __init__(self):\n",
    "        super().__init__()\n",
    "        self.conv1=nn.Conv2d(1,6,3,1)\n",
    "        self.conv2=nn.Conv2d(6,16,3,1)\n",
    "        self.fc1=nn.Linear(400,120)\n",
    "        self.fc2=nn.Linear(120,84)\n",
    "        self.fc3=nn.Linear(84,10)\n",
    "        \n",
    "    def forward(self,x):\n",
    "        x=F.relu(self.conv1(x))\n",
    "        x=F.max_pool2d(x,2,2)\n",
    "        x=F.relu(self.conv2(x))\n",
    "        x=F.max_pool2d(x,2,2)\n",
    "        x=x.view(-1,400)\n",
    "        x=self.fc1(x)\n",
    "        x=self.fc2(x)\n",
    "        x=self.fc3(x)\n",
    "        return F.log_softmax(x,dim=1)"
   ]
  },
  {
   "cell_type": "code",
   "execution_count": 227,
   "metadata": {},
   "outputs": [],
   "source": [
    "torch.manual_seed(42)\n",
    "model=conv_architect()"
   ]
  },
  {
   "cell_type": "code",
   "execution_count": 228,
   "metadata": {},
   "outputs": [
    {
     "name": "stdout",
     "output_type": "stream",
     "text": [
      "conv_architect(\n",
      "  (conv1): Conv2d(1, 6, kernel_size=(3, 3), stride=(1, 1))\n",
      "  (conv2): Conv2d(6, 16, kernel_size=(3, 3), stride=(1, 1))\n",
      "  (fc1): Linear(in_features=400, out_features=120, bias=True)\n",
      "  (fc2): Linear(in_features=120, out_features=84, bias=True)\n",
      "  (fc3): Linear(in_features=84, out_features=10, bias=True)\n",
      ")\n"
     ]
    }
   ],
   "source": [
    "print(model)"
   ]
  },
  {
   "cell_type": "code",
   "execution_count": 229,
   "metadata": {},
   "outputs": [
    {
     "name": "stdout",
     "output_type": "stream",
     "text": [
      "54\n",
      "6\n",
      "864\n",
      "16\n",
      "48000\n",
      "120\n",
      "10080\n",
      "84\n",
      "840\n",
      "10\n"
     ]
    }
   ],
   "source": [
    "for param in model.parameters():\n",
    "    print(param.numel())"
   ]
  },
  {
   "cell_type": "code",
   "execution_count": 230,
   "metadata": {},
   "outputs": [],
   "source": [
    "criterion=nn.CrossEntropyLoss()\n",
    "optimizer=torch.optim.Adam(model.parameters(),lr=0.001)"
   ]
  },
  {
   "cell_type": "code",
   "execution_count": 231,
   "metadata": {},
   "outputs": [],
   "source": [
    "#for b,(train,test) in enumerate(train_loader):\n",
    "#    pass\n",
    "#train.size()"
   ]
  },
  {
   "cell_type": "code",
   "execution_count": 232,
   "metadata": {},
   "outputs": [
    {
     "name": "stdout",
     "output_type": "stream",
     "text": [
      "epoch:1 batch:600 loss:0.40777215361595154\n",
      "epoch:1 batch:1200 loss:0.12517264485359192\n",
      "epoch:1 batch:1800 loss:0.05623014643788338\n",
      "epoch:1 batch:2400 loss:0.060953281819820404\n",
      "epoch:1 batch:3000 loss:0.002896189223974943\n",
      "epoch:1 batch:3600 loss:0.017134156078100204\n",
      "epoch:1 batch:4200 loss:0.15663571655750275\n",
      "epoch:1 batch:4800 loss:0.005714830942451954\n",
      "epoch:1 batch:5400 loss:0.0005257712909951806\n",
      "epoch:1 batch:6000 loss:0.05948800966143608\n",
      "epoch:2 batch:600 loss:0.02005644701421261\n",
      "epoch:2 batch:1200 loss:0.053263336420059204\n",
      "epoch:2 batch:1800 loss:0.015455096960067749\n",
      "epoch:2 batch:2400 loss:0.0040410710498690605\n",
      "epoch:2 batch:3000 loss:0.002596080768853426\n",
      "epoch:2 batch:3600 loss:0.0653887540102005\n",
      "epoch:2 batch:4200 loss:0.04863394796848297\n",
      "epoch:2 batch:4800 loss:0.20608308911323547\n",
      "epoch:2 batch:5400 loss:0.01518976129591465\n",
      "epoch:2 batch:6000 loss:0.026488423347473145\n",
      "epoch:3 batch:600 loss:0.0009302905527874827\n",
      "epoch:3 batch:1200 loss:0.014466042630374432\n",
      "epoch:3 batch:1800 loss:0.001358875771984458\n",
      "epoch:3 batch:2400 loss:0.1097583994269371\n",
      "epoch:3 batch:3000 loss:0.050409309566020966\n",
      "epoch:3 batch:3600 loss:0.06592239439487457\n",
      "epoch:3 batch:4200 loss:0.002452822867780924\n",
      "epoch:3 batch:4800 loss:0.0014880060916766524\n",
      "epoch:3 batch:5400 loss:0.35196182131767273\n",
      "epoch:3 batch:6000 loss:0.001120483735576272\n",
      "epoch:4 batch:600 loss:0.003047842998057604\n",
      "epoch:4 batch:1200 loss:0.22440564632415771\n",
      "epoch:4 batch:1800 loss:0.0011392508167773485\n",
      "epoch:4 batch:2400 loss:0.004840088542550802\n",
      "epoch:4 batch:3000 loss:0.011371413245797157\n",
      "epoch:4 batch:3600 loss:0.0008412303286604583\n",
      "epoch:4 batch:4200 loss:0.006462921854108572\n",
      "epoch:4 batch:4800 loss:0.01717524789273739\n",
      "epoch:4 batch:5400 loss:0.0005670910468325019\n",
      "epoch:4 batch:6000 loss:0.000894143246114254\n",
      "epoch:5 batch:600 loss:0.005822303704917431\n",
      "epoch:5 batch:1200 loss:0.3757205307483673\n",
      "epoch:5 batch:1800 loss:0.000638074881862849\n",
      "epoch:5 batch:2400 loss:0.0015970391687005758\n",
      "epoch:5 batch:3000 loss:0.011366179212927818\n",
      "epoch:5 batch:3600 loss:0.041018255054950714\n",
      "epoch:5 batch:4200 loss:0.00029157844255678356\n",
      "epoch:5 batch:4800 loss:0.028709132224321365\n",
      "epoch:5 batch:5400 loss:0.00022260742844082415\n",
      "epoch:5 batch:6000 loss:0.02529524639248848\n",
      "epoch:6 batch:600 loss:0.0007870963891036808\n",
      "epoch:6 batch:1200 loss:0.003034312045201659\n",
      "epoch:6 batch:1800 loss:0.07462364435195923\n",
      "epoch:6 batch:2400 loss:0.0011299345642328262\n",
      "epoch:6 batch:3000 loss:0.006045086774975061\n",
      "epoch:6 batch:3600 loss:0.00015468614583369344\n",
      "epoch:6 batch:4200 loss:0.0008260010508820415\n",
      "epoch:6 batch:4800 loss:0.002204819116741419\n",
      "epoch:6 batch:5400 loss:0.06913776695728302\n",
      "epoch:6 batch:6000 loss:0.020101012662053108\n",
      "8.10538460413615 minutes\n"
     ]
    }
   ],
   "source": [
    "import time\n",
    "start_time=time.time()\n",
    "\n",
    "train_loss=[]\n",
    "test_loss=[]\n",
    "trn_correct=[]\n",
    "tst_correct=[]\n",
    "\n",
    "epochs=6\n",
    "\n",
    "for i in range(epochs):\n",
    "    trn=0\n",
    "    tst=0\n",
    "    i+=1\n",
    "    \n",
    "    for b,(x_train,y_train) in  enumerate(train_loader):\n",
    "        b+=1\n",
    "        \n",
    "        y_pred=model.forward(x_train)\n",
    "        loss=criterion(y_pred,y_train)\n",
    "        predicted=torch.max(y_pred.data,1)[1]\n",
    "        trn+=(predicted==y_train).sum()\n",
    "        \n",
    "        \n",
    "        optimizer.zero_grad()\n",
    "        loss.backward()\n",
    "        optimizer.step()\n",
    "        \n",
    "        if b%600==0: \n",
    "            print(f'epoch:{i} batch:{b} loss:{loss.item()}')\n",
    "        \n",
    "    train_loss.append(loss)\n",
    "    trn_correct.append(trn)\n",
    "    \n",
    "    with torch.no_grad():\n",
    "        for b,(x_test,y_test) in enumerate(test_loader):\n",
    "            b+=1\n",
    "            y_pred=model.forward(x_test)\n",
    "            predicted=torch.max(y_pred.data,1)[1]\n",
    "            tst+=(predicted==y_test).sum()\n",
    "            \n",
    "    loss=criterion(y_pred,y_test)\n",
    "    test_loss.append(loss)\n",
    "    tst_correct.append(tst)\n",
    "    \n",
    "\n",
    "\n",
    "\n",
    "\n",
    "current_time=time.time()\n",
    "total_time=current_time-start_time\n",
    "print(f'{total_time/60} minutes')"
   ]
  },
  {
   "cell_type": "code",
   "execution_count": 233,
   "metadata": {},
   "outputs": [
    {
     "data": {
      "text/plain": [
       "<matplotlib.legend.Legend at 0x8b7fba7f48>"
      ]
     },
     "execution_count": 233,
     "metadata": {},
     "output_type": "execute_result"
    },
    {
     "data": {
      "image/png": "[encoded data removed]",
      "text/plain": [
       "<Figure size 432x288 with 1 Axes>"
      ]
     },
     "metadata": {
      "needs_background": "light"
     },
     "output_type": "display_data"
    }
   ],
   "source": [
    "plt.plot(range(epochs),train_loss,label='training_loss')\n",
    "plt.plot(range(epochs),test_loss,label='validation_loss')\n",
    "plt.legend()"
   ]
  },
  {
   "cell_type": "code",
   "execution_count": 234,
   "metadata": {},
   "outputs": [
    {
     "data": {
      "text/plain": [
       "<matplotlib.legend.Legend at 0x8b7fc9f0c8>"
      ]
     },
     "execution_count": 234,
     "metadata": {},
     "output_type": "execute_result"
    },
    {
     "data": {
      "image/png": "[encoded data removed]",
      "text/plain": [
       "<Figure size 432x288 with 1 Axes>"
      ]
     },
     "metadata": {
      "needs_background": "light"
     },
     "output_type": "display_data"
    }
   ],
   "source": [
    "plt.plot([t/600 for t in trn_correct], label='training accuracy')\n",
    "plt.plot([t/100 for t in tst_correct], label='validation accuracy')\n",
    "plt.title('Accuracy at the end of each epoch')\n",
    "plt.legend()"
   ]
  },
  {
   "cell_type": "code",
   "execution_count": 236,
   "metadata": {},
   "outputs": [],
   "source": [
    "test_loadall=DataLoader(test_data,batch_size=10000,shuffle=False)"
   ]
  },
  {
   "cell_type": "code",
   "execution_count": 237,
   "metadata": {},
   "outputs": [],
   "source": [
    "correct=0\n",
    "with torch.no_grad():\n",
    "    for x_test,y_test in test_loadall:\n",
    "        pred=model.forward(x_test)\n",
    "        predict=torch.max(pred.data,1)[1]\n",
    "        correct+=(predict==y_test).sum()\n",
    "        "
   ]
  },
  {
   "cell_type": "code",
   "execution_count": 240,
   "metadata": {},
   "outputs": [
    {
     "data": {
      "text/plain": [
       "tensor(0.9836)"
      ]
     },
     "execution_count": 240,
     "metadata": {},
     "output_type": "execute_result"
    }
   ],
   "source": [
    "correct/len(x_test)"
   ]
  },
  {
   "cell_type": "code",
   "execution_count": 243,
   "metadata": {},
   "outputs": [
    {
     "data": {
      "text/plain": [
       "array([[ 973,    2,    3,    0,    0,    1,    2,    0,    1,    0],\n",
       "       [   0, 1126,    0,    0,    0,    0,    2,    1,    0,    2],\n",
       "       [   0,    2, 1003,    3,    3,    0,    0,    8,    1,    0],\n",
       "       [   0,    0,    0,  990,    0,    4,    0,    1,    0,    2],\n",
       "       [   0,    0,    0,    0,  962,    0,    2,    0,    0,    0],\n",
       "       [   1,    0,    0,    2,    0,  878,    3,    1,    2,    8],\n",
       "       [   3,    1,    0,    0,    5,    6,  948,    0,    3,    1],\n",
       "       [   2,    3,    7,    5,    1,    1,    0, 1011,    1,    3],\n",
       "       [   1,    1,   19,    9,    2,    2,    1,    2,  966,   14],\n",
       "       [   0,    0,    0,    1,    9,    0,    0,    4,    0,  979]],\n",
       "      dtype=int64)"
      ]
     },
     "execution_count": 243,
     "metadata": {},
     "output_type": "execute_result"
    }
   ],
   "source": [
    "confusion_matrix(predict.view(-1),y_test.view(-1))"
   ]
  },
  {
   "cell_type": "code",
   "execution_count": 253,
   "metadata": {},
   "outputs": [
    {
     "data": {
      "text/plain": [
       "<matplotlib.image.AxesImage at 0x8b7fd81708>"
      ]
     },
     "execution_count": 253,
     "metadata": {},
     "output_type": "execute_result"
    },
    {
     "data": {
      "image/png": "[encoded data removed]",
      "text/plain": [
       "<Figure size 432x288 with 1 Axes>"
      ]
     },
     "metadata": {
      "needs_background": "light"
     },
     "output_type": "display_data"
    }
   ],
   "source": [
    "plt.imshow(test_data[333][0].view(28,28))"
   ]
  },
  {
   "cell_type": "code",
   "execution_count": 254,
   "metadata": {},
   "outputs": [],
   "source": [
    "with torch.no_grad():\n",
    "    y=model.forward(test_data[333][0].view(1,1,28,28))"
   ]
  },
  {
   "cell_type": "code",
   "execution_count": 255,
   "metadata": {},
   "outputs": [
    {
     "data": {
      "text/plain": [
       "tensor(5)"
      ]
     },
     "execution_count": 255,
     "metadata": {},
     "output_type": "execute_result"
    }
   ],
   "source": [
    "y.argmax()"
   ]
  },
  {
   "cell_type": "code",
   "execution_count": null,
   "metadata": {},
   "outputs": [],
   "source": []
  }
 ],
 "metadata": {
  "kernelspec": {
   "display_name": "Python (mytfenv)",
   "language": "python",
   "name": "mytfenv"
  },
  "language_info": {
   "codemirror_mode": {
    "name": "ipython",
    "version": 3
   },
   "file_extension": ".py",
   "mimetype": "text/x-python",
   "name": "python",
   "nbconvert_exporter": "python",
   "pygments_lexer": "ipython3",
   "version": "3.7.9"
  }
 },
 "nbformat": 4,
 "nbformat_minor": 2
}
