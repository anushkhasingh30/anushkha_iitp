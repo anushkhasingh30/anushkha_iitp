{
 "cells": [
  {
   "cell_type": "code",
   "execution_count": 1,
   "metadata": {},
   "outputs": [],
   "source": [
    "from IPython.display import clear_output"
   ]
  },
  {
   "cell_type": "code",
   "execution_count": 13,
   "metadata": {},
   "outputs": [],
   "source": [
    "def display_board(board):\n",
    "    print(' '+'|'+' '+'|'+' ')\n",
    "    print(board[1]+'|'+board[2]+'|'+board[3])\n",
    "    print('-----')\n",
    "    print(board[4]+'|'+board[5]+'|'+board[6])\n",
    "    print('-----')\n",
    "    print(board[7]+'|'+board[8]+'|'+board[9])\n",
    "    print(' '+'|'+' '+'|'+' ')"
   ]
  },
  {
   "cell_type": "code",
   "execution_count": 14,
   "metadata": {},
   "outputs": [
    {
     "name": "stdout",
     "output_type": "stream",
     "text": [
      " | | \n",
      " | | \n",
      "-----\n",
      " | | \n",
      "-----\n",
      " | | \n",
      " | | \n"
     ]
    }
   ],
   "source": [
    "board=[' ']*10\n",
    "display_board(board)"
   ]
  },
  {
   "cell_type": "code",
   "execution_count": 4,
   "metadata": {},
   "outputs": [],
   "source": [
    "def player_input():\n",
    "    choice='wrong'\n",
    "    while choice not in ['X','O']:\n",
    "        choice=input('Enter your choice X OR O')\n",
    "    if choice=='X':\n",
    "        return('X','O')\n",
    "    else:\n",
    "        return('O','X')\n",
    "    "
   ]
  },
  {
   "cell_type": "code",
   "execution_count": 5,
   "metadata": {},
   "outputs": [
    {
     "name": "stdout",
     "output_type": "stream",
     "text": [
      "Enter your choice X OR OX\n"
     ]
    },
    {
     "data": {
      "text/plain": [
       "('X', 'O')"
      ]
     },
     "execution_count": 5,
     "metadata": {},
     "output_type": "execute_result"
    }
   ],
   "source": [
    "player_input()\n"
   ]
  },
  {
   "cell_type": "code",
   "execution_count": 6,
   "metadata": {},
   "outputs": [],
   "source": [
    "def position_marker(board,position,marker):\n",
    "    board[position]=marker"
   ]
  },
  {
   "cell_type": "code",
   "execution_count": 7,
   "metadata": {},
   "outputs": [],
   "source": [
    "def win_checker(board,marker):\n",
    "    return((board[1]==board[2]==board[3]==marker)or\n",
    "          (board[4]==board[5]==board[6]==marker) or\n",
    "          (board[7]==board[8]==board[9]==marker) or\n",
    "          (board[1]==board[4]==board[7]==marker) or\n",
    "          (board[2]==board[5]==board[8]==marker) or\n",
    "          (board[3]==board[6]==board[9]==marker) or\n",
    "          (board[1]==board[5]==board[9]==marker) or\n",
    "          (board[3]==board[5]==board[7]==marker))                "
   ]
  },
  {
   "cell_type": "code",
   "execution_count": 8,
   "metadata": {},
   "outputs": [],
   "source": [
    "def check_tie(board):\n",
    "    for i in range(1,10):\n",
    "        if board[i]==' ':\n",
    "            return False\n",
    "    return True"
   ]
  },
  {
   "cell_type": "code",
   "execution_count": 9,
   "metadata": {},
   "outputs": [],
   "source": [
    "def player_first():\n",
    "    from random import randint\n",
    "    flip=randint(0,1)\n",
    "    if flip==0:\n",
    "        return 'player1'\n",
    "    else:\n",
    "        return 'player2'"
   ]
  },
  {
   "cell_type": "code",
   "execution_count": 15,
   "metadata": {},
   "outputs": [],
   "source": [
    "def player_choice(board):\n",
    "    position=0\n",
    "    while position not in [1,2,3,4,5,6,7,8,9] or board[position]!=' ':\n",
    "        position=int(input('enter a number: '))\n",
    "    return position"
   ]
  },
  {
   "cell_type": "code",
   "execution_count": 16,
   "metadata": {},
   "outputs": [],
   "source": [
    "def replay():\n",
    "    play=input('Do you want to play again Y or N')\n",
    "    return play"
   ]
  },
  {
   "cell_type": "code",
   "execution_count": null,
   "metadata": {},
   "outputs": [
    {
     "name": "stdout",
     "output_type": "stream",
     "text": [
      "Enter your choice X OR OX\n",
      "player2will go first\n",
      " | | \n",
      " | | \n",
      "-----\n",
      " | | \n",
      "-----\n",
      " | | \n",
      " | | \n",
      "enter a number: 6\n",
      " | | \n",
      " | | \n",
      "-----\n",
      " | |O\n",
      "-----\n",
      " | | \n",
      " | | \n",
      "enter a number: 2\n",
      " | | \n",
      " |X| \n",
      "-----\n",
      " | |O\n",
      "-----\n",
      " | | \n",
      " | | \n",
      "enter a number: 5\n",
      " | | \n",
      " |X| \n",
      "-----\n",
      " |O|O\n",
      "-----\n",
      " | | \n",
      " | | \n",
      "enter a number: 4\n",
      " | | \n",
      " |X| \n",
      "-----\n",
      "X|O|O\n",
      "-----\n",
      " | | \n",
      " | | \n",
      "enter a number: 2\n",
      "enter a number: 7\n",
      " | | \n",
      " |X| \n",
      "-----\n",
      "X|O|O\n",
      "-----\n",
      "O| | \n",
      " | | \n",
      "enter a number: 3\n",
      " | | \n",
      " |X|X\n",
      "-----\n",
      "X|O|O\n",
      "-----\n",
      "O| | \n",
      " | | \n",
      "enter a number: 1\n",
      " | | \n",
      "O|X|X\n",
      "-----\n",
      "X|O|O\n",
      "-----\n",
      "O| | \n",
      " | | \n",
      "enter a number: 9\n",
      " | | \n",
      "O|X|X\n",
      "-----\n",
      "X|O|O\n",
      "-----\n",
      "O| |X\n",
      " | | \n",
      "enter a number: 8\n",
      "its a tie\n"
     ]
    }
   ],
   "source": [
    "## print('Welcome to TIC TAC TOE')\n",
    "    #setting up the initial parameters\n",
    "while True:\n",
    "    board=[' ']*10\n",
    "    player_marker1,player_marker2=player_input()\n",
    "    turn =player_first()\n",
    "    print(turn +'will go first')\n",
    "    \n",
    "    gameon=True\n",
    "    while gameon:\n",
    "        if turn=='player1':\n",
    "            display_board(board)\n",
    "            \n",
    "            position=player_choice(board)\n",
    "            position_marker(board,position,player_marker1)\n",
    "            if win_checker(board,player_marker1):\n",
    "                print('Player1 has won')\n",
    "                gameon=False\n",
    "            elif check_tie(board):\n",
    "                print('its a tie')\n",
    "                gameon=False\n",
    "            else:\n",
    "                turn='player2'\n",
    "                \n",
    "        else:\n",
    "            display_board(board)\n",
    "            \n",
    "            position=player_choice(board)\n",
    "            position_marker(board,position,player_marker2)\n",
    "            if win_checker(board,player_marker2):\n",
    "                print('Player2 has won')\n",
    "                gameon=False\n",
    "            elif check_tie(board):\n",
    "                print('its a tie')\n",
    "                gameon=False\n",
    "            else:\n",
    "                turn='player1'\n",
    "                   \n",
    "                   \n",
    "    play=replay()\n",
    "    if play=='N':\n",
    "        break\n",
    "                   \n",
    "                   \n",
    "                  \n",
    "                \n",
    "    \n",
    "        \n",
    "        \n",
    "                \n",
    "            "
   ]
  },
  {
   "cell_type": "markdown",
   "metadata": {},
   "source": [
    "\n"
   ]
  }
 ],
 "metadata": {
  "kernelspec": {
   "display_name": "Python 3",
   "language": "python",
   "name": "python3"
  },
  "language_info": {
   "codemirror_mode": {
    "name": "ipython",
    "version": 3
   },
   "file_extension": ".py",
   "mimetype": "text/x-python",
   "name": "python",
   "nbconvert_exporter": "python",
   "pygments_lexer": "ipython3",
   "version": "3.7.6"
  }
 },
 "nbformat": 4,
 "nbformat_minor": 4
}
